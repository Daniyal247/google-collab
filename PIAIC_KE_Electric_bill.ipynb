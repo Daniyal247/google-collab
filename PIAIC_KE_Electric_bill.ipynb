{
  "nbformat": 4,
  "nbformat_minor": 0,
  "metadata": {
    "colab": {
      "provenance": [],
      "authorship_tag": "ABX9TyM6Qh3WLCLsWvcm2+0DaRqU",
      "include_colab_link": true
    },
    "kernelspec": {
      "name": "python3",
      "display_name": "Python 3"
    },
    "language_info": {
      "name": "python"
    }
  },
  "cells": [
    {
      "cell_type": "markdown",
      "metadata": {
        "id": "view-in-github",
        "colab_type": "text"
      },
      "source": [
        "<a href=\"https://colab.research.google.com/github/Daniyal247/Daniyal247/blob/main/PIAIC_KE_Electric_bill.ipynb\" target=\"_parent\"><img src=\"https://colab.research.google.com/assets/colab-badge.svg\" alt=\"Open In Colab\"/></a>"
      ]
    },
    {
      "cell_type": "code",
      "execution_count": 1,
      "metadata": {
        "colab": {
          "base_uri": "https://localhost:8080/"
        },
        "id": "498L4ZIjQjFb",
        "outputId": "a66a0e05-5204-4f5a-85ed-7db7360ae989"
      },
      "outputs": [
        {
          "output_type": "stream",
          "name": "stdout",
          "text": [
            "enter Units of Aug: 234\n",
            "enter Units of Jun: 146\n",
            "enter Units of Jun Uni: 748\n",
            "enter Units of May: 472\n",
            "variable Charges is:  4408\n",
            "uniform Adjustment is:  427\n",
            "Fuel Adj of May-22 is :  3250\n",
            "Fuel Adj of June-22 is :  439\n",
            "Total KE charges are:  8524\n",
            "Electricity duty:  127\n",
            "Sales tax:  1470\n",
            "Total Government charges are:  1597\n",
            "1Your Electricity charges for the period:  10121\n"
          ]
        }
      ],
      "source": [
        "def variable_charges (monthly_units):\n",
        "    if monthly_units > 1 and monthly_units < 1:\n",
        "        v_charges = monthly_units * 9.43\n",
        "    if monthly_units > 101 and monthly_units < 200:\n",
        "        v_charges = monthly_units * 17.9566\n",
        "    if monthly_units > 201 and monthly_units < 300:\n",
        "        v_charges = monthly_units * 18.84\n",
        "    if monthly_units > 301 and monthly_units < 400:\n",
        "        v_charges = monthly_units * 19.76\n",
        "    return int(v_charges)\n",
        "\n",
        "def uniform_adj (June_uni_units):\n",
        "    result = June_uni_units * 0.5715\n",
        "    return int(result)\n",
        "\n",
        "def fuel_adj_a(May):\n",
        "    m = May * 6.8858\n",
        "    return int(m)\n",
        "\n",
        "def fuel_adj_b(Jun):\n",
        "    j = Jun * 3.0114\n",
        "    return int(j)\n",
        "    \n",
        "\n",
        "def ke_charges (c1, c2, c3, c4):\n",
        "    result = c1 + c2 + c3 + c4\n",
        "    return result\n",
        "\n",
        "def duty (ke_charges):\n",
        "    result = ke_charges * 0.015\n",
        "    return int(result)\n",
        "\n",
        "def sales_tax (ke_charges, duty):\n",
        "    result = (ke_charges + duty) * 0.17\n",
        "    return int(result)\n",
        "\n",
        "def govt_charges (a, b):\n",
        "    result = a + b\n",
        "    return int(result)\n",
        "def total_dues (a, b):\n",
        "    result = a + b\n",
        "    return int(result)\n",
        "\n",
        "Aug_user_input = int(input (\"enter Units of Aug: \"))\n",
        "Jun_user_input = int(input (\"enter Units of Jun: \"))\n",
        "Jun_uni_user_input = int(input (\"enter Units of Jun Uni: \"))\n",
        "May_user_input = int(input (\"enter Units of May: \"))\n",
        "\n",
        "\n",
        "def main_calc(Aug, June, Jun_uni, May):\n",
        "    display_a = variable_charges(Aug)\n",
        "    print (\"variable Charges is: \", display_a)\n",
        "    \n",
        "    display_b = uniform_adj(Jun_uni_user_input)\n",
        "    print (\"uniform Adjustment is: \", display_b)\n",
        "    \n",
        "    display_c = fuel_adj_a(May_user_input)\n",
        "    print (\"Fuel Adj of May-22 is : \", display_c)\n",
        "    \n",
        "    display_d = fuel_adj_b(Jun_user_input)\n",
        "    print (\"Fuel Adj of June-22 is : \", display_d)\n",
        "    \n",
        "    display_e = ke_charges(display_a, display_b, display_c, display_d)\n",
        "    print (\"Total KE charges are: \", display_e)\n",
        "    \n",
        "    display_f = duty(display_e)\n",
        "    print (\"Electricity duty: \", display_f)\n",
        "    \n",
        "    display_g = sales_tax(display_e, display_f)\n",
        "    print (\"Sales tax: \", display_g)\n",
        "\n",
        "    display_h = govt_charges(display_f, display_g)\n",
        "    print (\"Total Government charges are: \", display_h)\n",
        "    \n",
        "    display_e = total_dues(display_e, display_h)\n",
        "    print (\"Your Electricity charges for the period: \", display_e)\n",
        "\n",
        "main_calc(Aug_user_input, Jun_user_input, Jun_uni_user_input, May_user_input)"
      ]
    },
    {
      "cell_type": "code",
      "source": [
        "  "
      ],
      "metadata": {
        "id": "P0EZgLe0Qki4"
      },
      "execution_count": null,
      "outputs": []
    }
  ]
}